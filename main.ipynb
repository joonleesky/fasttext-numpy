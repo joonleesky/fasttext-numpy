{
 "cells": [
  {
   "cell_type": "code",
   "execution_count": 1,
   "metadata": {},
   "outputs": [],
   "source": [
    "from data_utils  import *\n",
    "from train_utils import *\n"
   ]
  },
  {
   "cell_type": "markdown",
   "metadata": {},
   "source": [
    "### Import Data"
   ]
  },
  {
   "cell_type": "code",
   "execution_count": 2,
   "metadata": {},
   "outputs": [
    {
     "name": "stdout",
     "output_type": "stream",
     "text": [
      "train data num: 560000\n",
      "test data num: 38000\n"
     ]
    }
   ],
   "source": [
    "data = Data(train_data_source = './data/yelp_review_polarity_csv/train.csv',\n",
    "            test_data_source  = './data/yelp_review_polarity_csv/test.csv',\n",
    "            n_grams = 2, split_ratio = 0.94)\n",
    "#data = Data(train_data_source = './data/ag_news_csv/train.csv',\n",
    "#            test_data_source  = './data/ag_news_csv/test.csv',\n",
    "#            n_grams = 1, split_ratio = 0.94)\n",
    "data.loadData()"
   ]
  },
  {
   "cell_type": "code",
   "execution_count": 3,
   "metadata": {},
   "outputs": [],
   "source": [
    "data.preProcess()"
   ]
  },
  {
   "cell_type": "code",
   "execution_count": 4,
   "metadata": {},
   "outputs": [],
   "source": [
    "data.build_dictionary()"
   ]
  },
  {
   "cell_type": "code",
   "execution_count": 5,
   "metadata": {},
   "outputs": [],
   "source": [
    "data.strToIdx()\n",
    "data.splitData()"
   ]
  },
  {
   "cell_type": "code",
   "execution_count": 6,
   "metadata": {},
   "outputs": [
    {
     "name": "stdout",
     "output_type": "stream",
     "text": [
      "Train data: 526400 526400\n",
      "Validation data: 33600 33600\n",
      "Test data: 38000 38000\n",
      "Dictionary length: 5948872\n"
     ]
    }
   ],
   "source": [
    "X_train = data.data['train']['X']\n",
    "y_train = data.data['train']['y']\n",
    "\n",
    "X_val = data.data['val']['X']\n",
    "y_val = data.data['val']['y']\n",
    "\n",
    "X_test = data.data['test']['X']\n",
    "y_test = data.data['test']['y']\n",
    "\n",
    "dictionary = data.dict\n",
    "\n",
    "del data\n",
    "print('Train data:',len(X_train),len(y_train))\n",
    "print('Validation data:',len(X_val),len(y_val))\n",
    "print('Test data:',len(X_test),len(y_test))\n",
    "print('Dictionary length:',len(dictionary))"
   ]
  },
  {
   "cell_type": "markdown",
   "metadata": {},
   "source": [
    "### Train"
   ]
  },
  {
   "cell_type": "code",
   "execution_count": 9,
   "metadata": {},
   "outputs": [],
   "source": [
    "model = FastText(len(dictionary), epoch = 5, n_classes = 2, lr = 5e-3, lr_decay = 0.7, initialization = 'He')"
   ]
  },
  {
   "cell_type": "code",
   "execution_count": 10,
   "metadata": {},
   "outputs": [
    {
     "name": "stdout",
     "output_type": "stream",
     "text": [
      "[epoch: 1]\n",
      "[idx: 105279] loss:0.3473 train_acc:0.8547 val_acc:0.9108\n",
      "[idx: 210559] loss:0.2143 train_acc:0.9204 val_acc:0.9250\n",
      "[idx: 315839] loss:0.1973 train_acc:0.9295 val_acc:0.9313\n",
      "[idx: 421119] loss:0.1830 train_acc:0.9350 val_acc:0.9346\n",
      "[idx: 526399] loss:0.1820 train_acc:0.9362 val_acc:0.9361\n",
      "[epoch: 2]\n",
      "[idx: 105279] loss:0.1711 train_acc:0.9406 val_acc:0.9375\n",
      "[idx: 210559] loss:0.1629 train_acc:0.9433 val_acc:0.9385\n",
      "[idx: 315839] loss:0.1627 train_acc:0.9446 val_acc:0.9401\n",
      "[idx: 421119] loss:0.1580 train_acc:0.9462 val_acc:0.9406\n",
      "[idx: 526399] loss:0.1618 train_acc:0.9452 val_acc:0.9407\n",
      "[epoch: 3]\n",
      "[idx: 105279] loss:0.1575 train_acc:0.9464 val_acc:0.9414\n",
      "[idx: 210559] loss:0.1518 train_acc:0.9481 val_acc:0.9419\n",
      "[idx: 315839] loss:0.1521 train_acc:0.9491 val_acc:0.9432\n",
      "[idx: 421119] loss:0.1490 train_acc:0.9501 val_acc:0.9425\n",
      "[idx: 526399] loss:0.1534 train_acc:0.9490 val_acc:0.9428\n",
      "[epoch: 4]\n",
      "[idx: 105279] loss:0.1513 train_acc:0.9490 val_acc:0.9429\n",
      "[idx: 210559] loss:0.1465 train_acc:0.9506 val_acc:0.9438\n",
      "[idx: 315839] loss:0.1468 train_acc:0.9511 val_acc:0.9439\n",
      "[idx: 421119] loss:0.1442 train_acc:0.9524 val_acc:0.9437\n",
      "[idx: 526399] loss:0.1487 train_acc:0.9507 val_acc:0.9442\n",
      "[epoch: 5]\n",
      "[idx: 105279] loss:0.1478 train_acc:0.9506 val_acc:0.9439\n",
      "[idx: 210559] loss:0.1433 train_acc:0.9518 val_acc:0.9443\n",
      "[idx: 315839] loss:0.1435 train_acc:0.9522 val_acc:0.9446\n",
      "[idx: 421119] loss:0.1413 train_acc:0.9538 val_acc:0.9446\n",
      "[idx: 526399] loss:0.1457 train_acc:0.9521 val_acc:0.9447\n"
     ]
    }
   ],
   "source": [
    "model.train(X_train, y_train, X_val, y_val, verbose = 5)"
   ]
  },
  {
   "cell_type": "markdown",
   "metadata": {},
   "source": [
    "### Predict"
   ]
  },
  {
   "cell_type": "code",
   "execution_count": 11,
   "metadata": {},
   "outputs": [
    {
     "data": {
      "text/plain": [
       "0.9483421052631579"
      ]
     },
     "execution_count": 11,
     "metadata": {},
     "output_type": "execute_result"
    }
   ],
   "source": [
    "model.evaluate(X_test,y_test)"
   ]
  },
  {
   "cell_type": "code",
   "execution_count": null,
   "metadata": {},
   "outputs": [],
   "source": []
  },
  {
   "cell_type": "code",
   "execution_count": null,
   "metadata": {},
   "outputs": [],
   "source": []
  }
 ],
 "metadata": {
  "kernelspec": {
   "display_name": "Python 3",
   "language": "python",
   "name": "python3"
  },
  "language_info": {
   "codemirror_mode": {
    "name": "ipython",
    "version": 3
   },
   "file_extension": ".py",
   "mimetype": "text/x-python",
   "name": "python",
   "nbconvert_exporter": "python",
   "pygments_lexer": "ipython3",
   "version": "3.6.4"
  }
 },
 "nbformat": 4,
 "nbformat_minor": 2
}
